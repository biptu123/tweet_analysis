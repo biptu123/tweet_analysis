{
 "cells": [
  {
   "cell_type": "code",
   "execution_count": 61,
   "id": "df6f5cdf",
   "metadata": {},
   "outputs": [],
   "source": [
    "#!/usr/bin/env python\n",
    "# coding: utf-8\n",
    "\"\"\"\n",
    "Sentiment Analysis Module\n",
    "\n",
    "This module provides a function for analyzing the sentiment of text using NLTK and VADER sentiment analysis.\n",
    "\"\"\"\n",
    "\n",
    "\n",
    "#Install packages\n",
    "# !pip install nltk\n",
    "# import nltk\n",
    "# nltk.download()\n",
    "\n",
    "\n",
    "# Import libraries\n",
    "from nltk.sentiment.vader import SentimentIntensityAnalyzer\n",
    "import string\n",
    "from collections import Counter\n",
    "import matplotlib.pyplot as plt\n",
    "from nltk.corpus import stopwords\n",
    "from nltk.tokenize import word_tokenize\n",
    "\n",
    "\n",
    "# Define emotion categories and their corresponding sentiment labels\n",
    "def emotions_sentiments(text):\n",
    "    score = SentimentIntensityAnalyzer().polarity_scores(text)\n",
    "    print(score)\n",
    "    pos = score['pos']\n",
    "    neg = score['neg']\n",
    "    neu = score['neu']\n",
    "    compound = score['compound']\n",
    "    if max(pos, neg, neu, compound) == pos:\n",
    "        return \"Positive\"\n",
    "    elif max(pos, neg, neu, compound) == neg:\n",
    "        return \"Negative\"\n",
    "    elif max(pos, neg, neu, compound) == neu:\n",
    "        return \"Neutral\"\n",
    "    return \"Irrelevant\"\n",
    "\n",
    "\n",
    "\n",
    "\n",
    "def analyse_tweet(text, flag=False):\n",
    "    \"\"\"\n",
    "    Analyzes the sentiment of a given text based on emotions and maps to sentiment labels.\n",
    "\n",
    "    Parameters:\n",
    "    - text (str): The input text to be analyzed.\n",
    "    - flag (bool): If True, prints additional analysis details and plots emotion graph.\n",
    "\n",
    "    Returns:\n",
    "    - str: Sentiment label ('Positive', 'Negative', 'Neutral', 'Irrelevant') based on emotions.\n",
    "    \"\"\"\n",
    "   \n",
    "\n",
    "    # Load NLTK stopwords and emotions from file into a dictionary\n",
    "    stop_words = set(stopwords.words('english'))\n",
    "    emotions = {}\n",
    "    with open(\"emotions.txt\", \"r\") as file:\n",
    "        for line in file:\n",
    "            word, emotion = line.replace(\"\\n\", '').replace(\"'\", '').replace(\",\", '').strip().split(\": \")\n",
    "            emotions[word] = emotion\n",
    "\n",
    "    # Clean text and extract emotions from text\n",
    "    lower_case = text.lower()\n",
    "    cleaned_text = lower_case.translate(str.maketrans('', '', string.punctuation))\n",
    "    tokenized_words = word_tokenize(cleaned_text)\n",
    "    final_words = [word for word in tokenized_words if word not in stop_words and word not in string.punctuation]\n",
    "    emotion_list = [emotions[word] for word in final_words if word in emotions]\n",
    "\n",
    "    # Assign sentiment label based on detected emotions\n",
    "    sentiment_labels = [emotions_sentiments(emotion) for emotion in emotion_list]\n",
    "\n",
    "    # Count sentiment labels\n",
    "    sentiment_counts = Counter(sentiment_labels)\n",
    "\n",
    "    # Plot emotions if flag is True\n",
    "    if flag:\n",
    "        print(\"Emotion List:\\n\", emotion_list)\n",
    "        print(\"#\" * 500)\n",
    "        print(\"Sentiment Labels:\\n\", sentiment_labels)\n",
    "        print(\"#\" * 500)\n",
    "        print(\"Sentiment Counts:\\n\", sentiment_counts)\n",
    "        fig, ax = plt.subplots()\n",
    "        ax.bar(sentiment_counts.keys(), sentiment_counts.values())\n",
    "        fig.autofmt_xdate()\n",
    "        plt.show()\n",
    "        print(\"Library Score :\" )\n",
    "        print( SentimentIntensityAnalyzer().polarity_scores(cleaned_text))\n",
    "\n",
    "    # Return sentiment label with the highest count among the detected emotions\n",
    "    calculated_sentiment = emotions_sentiments(cleaned_text)\n",
    "    if calculated_sentiment == \"Positive\" or calculated_sentiment == \"Negative\":\n",
    "        return calculated_sentiment\n",
    "    elif sentiment_counts:\n",
    "        return max(sentiment_counts, key=sentiment_counts.get)\n",
    "    else:\n",
    "        return emotions_sentiments(cleaned_text)"
   ]
  },
  {
   "cell_type": "code",
   "execution_count": 65,
   "id": "83b630af",
   "metadata": {},
   "outputs": [
    {
     "name": "stdout",
     "output_type": "stream",
     "text": [
      "{'neg': 0.0, 'neu': 0.508, 'pos': 0.492, 'compound': 0.4404}\n",
      "{'neg': 0.0, 'neu': 0.508, 'pos': 0.492, 'compound': 0.4404}\n"
     ]
    },
    {
     "data": {
      "text/plain": [
       "'Neutral'"
      ]
     },
     "execution_count": 65,
     "metadata": {},
     "output_type": "execute_result"
    }
   ],
   "source": [
    "# analyse_tweet(\"You are a good boy\")"
   ]
  },
  {
   "cell_type": "code",
   "execution_count": null,
   "id": "0c4510ee",
   "metadata": {},
   "outputs": [],
   "source": []
  }
 ],
 "metadata": {
  "kernelspec": {
   "display_name": "Python 3 (ipykernel)",
   "language": "python",
   "name": "python3"
  },
  "language_info": {
   "codemirror_mode": {
    "name": "ipython",
    "version": 3
   },
   "file_extension": ".py",
   "mimetype": "text/x-python",
   "name": "python",
   "nbconvert_exporter": "python",
   "pygments_lexer": "ipython3",
   "version": "3.11.5"
  }
 },
 "nbformat": 4,
 "nbformat_minor": 5
}
